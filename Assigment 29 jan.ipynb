{
 "cells": [
  {
   "cell_type": "code",
   "execution_count": null,
   "id": "bb92778e-b477-4334-aa6d-3ceb30ce2d52",
   "metadata": {},
   "outputs": [],
   "source": [
    "Ans = 1\n",
    "Python programming language was developed by Guido van Rossum in the late 1980s and was first released in 1991."
   ]
  },
  {
   "cell_type": "code",
   "execution_count": null,
   "id": "221b9bc2-4cfe-4647-8772-09854ccb0a4d",
   "metadata": {},
   "outputs": [],
   "source": [
    "Ans = 2\n",
    "Python is a general-purpose programming language that supports a wide range of programming paradigms, including:\n",
    "\n",
    "Procedural programming\n",
    "Object-oriented programming\n",
    "Functional programming\n"
   ]
  },
  {
   "cell_type": "code",
   "execution_count": null,
   "id": "b43b0e76-15e1-4c26-8be1-fbb655176338",
   "metadata": {},
   "outputs": [],
   "source": [
    "Ans = 3\n",
    "Yes, Python is case sensitive when dealing with identifiers.\n",
    "For example, my_variable, myFunction, and MyClass are all examples of identifiers in Python.\n",
    " my_variable and My_Variable would be considered two different identifiers in Python.\n",
    "\n",
    "This is different from some other programming languages, such as SQL, where identifiers are not case sensitive.\n"
   ]
  },
  {
   "cell_type": "code",
   "execution_count": null,
   "id": "ee9d69d0-52fa-49a8-bbb0-d7760c6a6aeb",
   "metadata": {},
   "outputs": [],
   "source": [
    "Ans = 4\n",
    " The correct extension for Python files is .py."
   ]
  },
  {
   "cell_type": "code",
   "execution_count": null,
   "id": "04da453a-1902-4307-8d94-d19c3d77628d",
   "metadata": {},
   "outputs": [],
   "source": [
    "Ans = 5\n",
    " This is the file extension for compiled Python code files. When a . \n",
    "py file is executed, the Python interpreter compiles the code to bytecode and saves it in a . \n",
    "pyc file to improve performance on subsequent executions.\n",
    " "
   ]
  },
  {
   "cell_type": "code",
   "execution_count": null,
   "id": "773cc701-2da1-4ac4-b95f-2486dd509c6d",
   "metadata": {},
   "outputs": [],
   "source": [
    "Ans = 6\n",
    "1. function\n",
    "ex:\n",
    "    def my_function():\n",
    "    print(\"Hello, world!\")\n",
    "2. Conditionals \n",
    "ex :\n",
    "    x = 5\n",
    "\n",
    "if x > 0:\n",
    "    print(\"x is positive\")\n",
    "elif x < 0:\n",
    "    print(\"x is negative\")\n",
    "else:\n",
    "    print(\"x is zero\")\n",
    "3. loops\n",
    "ex:\n",
    "    for i in range(10):\n",
    "    print(i)\n",
    "\n",
    "while x < 10:\n",
    "    print(x)\n",
    "    x += 1\n",
    "4. classes\n",
    "ex:\n",
    "    class MyClass:\n",
    "    def __init__(self, name):\n",
    "        self.name = name\n",
    "\n",
    "    def say_hello(self):\n",
    "        print(f\"Hello, {self.name}!\")\n",
    "\n",
    "obj = MyClass(\"Alice\")\n",
    "obj.say_hello() # Output: \"Hello, Alice!\"\n"
   ]
  },
  {
   "cell_type": "code",
   "execution_count": null,
   "id": "9013d835-a127-498d-82d9-6e04ea4a8386",
   "metadata": {},
   "outputs": [],
   "source": [
    "Ans = 7\n",
    "In Python, the # character is used to indicate a single-line comment.\n",
    "\n",
    "Anything that follows the # character on a line is treated as a comment and is ignored by the Python interpreter. \n",
    "\n",
    "ex:\n",
    "   # This is a single-line comment in Python\n",
    "\n",
    "print(\"Hello, world!\") # This line also includes a comment\n",
    " "
   ]
  },
  {
   "cell_type": "code",
   "execution_count": null,
   "id": "731d8be2-7845-4efa-96b5-d3c759f949d5",
   "metadata": {},
   "outputs": [],
   "source": [
    "Ans = 8\n",
    "To find the version of Python that you are currently working on, you can use the sys module, \n",
    "which provides information about the system and the Python interpreter.\n",
    "ex:\n",
    "    import sys\n",
    "\n",
    "print(\"Python version\")\n",
    "print(sys.version)\n",
    "print(\"Version info.\")\n",
    "print(sys.version_info)\n"
   ]
  },
  {
   "cell_type": "code",
   "execution_count": null,
   "id": "f379f797-b938-464b-b694-29cc5cd2fe42",
   "metadata": {},
   "outputs": [],
   "source": [
    "Ans = 9\n",
    "Yes, Python supports the creation of anonymous functions at runtime using a construct called lambda expressions.\n",
    "ex:\n",
    "    # Create a lambda function that returns the square of a number\n",
    "square = lambda x: x ** 2\n",
    "\n",
    "# Use the lambda function to calculate the square of a number\n",
    "result = square(5)\n",
    "\n",
    "print(result) # Output: 25\n"
   ]
  },
  {
   "cell_type": "code",
   "execution_count": null,
   "id": "28b39bba-9837-43ea-9073-66c4d95363bd",
   "metadata": {},
   "outputs": [],
   "source": [
    "Ans = 10\n",
    "PIP stands for \"Pip Installs Packages\" or \"Pip Installs Python\".\n",
    "\n",
    "PIP is a package manager for Python that is used to install and manage third-party packages and modules that are not part of the Python standard library.\n",
    "PIP allows you to easily install, uninstall, and upgrade Python packages, as well as manage dependencies between packages.\n",
    "\n",
    "PIP comes installed with most Python distributions, but if it's not installed on your system,\n",
    "you can easily install it using the package manager for your operating system.\n",
    "\n"
   ]
  },
  {
   "cell_type": "code",
   "execution_count": null,
   "id": "e3f91739-d660-441d-b48b-0ff0aba74ea7",
   "metadata": {},
   "outputs": [],
   "source": [
    "Ans = 11\n",
    "\n",
    "len(): Used to determine the length of a string, list, tuple, or other iterable.\n",
    "range(): Used to generate a sequence of numbers.\n",
    "input(): Used to read input from the user.\n",
    "int(): Used to convert a value to an integer.\n",
    "float(): Used to convert a value to a float.\n",
    "str(): Used to convert a value to a string.\n",
    "list(): Used to convert an iterable to a list.\n",
    "dict(): Used to create a dictionary.\n"
   ]
  },
  {
   "cell_type": "code",
   "execution_count": null,
   "id": "b780af55-8146-49cc-a161-ca111e00c3cd",
   "metadata": {},
   "outputs": [],
   "source": [
    "Ans = 12\n",
    "Identifiers must start with a letter (a-z or A-Z) or an underscore (_).\n",
    "The remaining characters in an identifier can be letters, numbers (0-9), or underscores (_).\n",
    "Identifiers are case sensitive, so my_var and My_Var are two different identifiers.\n",
    "Identifiers should be descriptive and avoid using single-character names, \n",
    "except in specific cases like loop counters."
   ]
  },
  {
   "cell_type": "code",
   "execution_count": null,
   "id": "bc453967-3bc9-4acb-8fd3-c83cfec27f47",
   "metadata": {},
   "outputs": [],
   "source": [
    "Ans = 13\n",
    "Simple and easy to learn: Python is known for its simplicity and ease of use, making it an ideal language for beginners. \n",
    "Its syntax is easy to read and understand, and there are many resources available to help you learn and get started quickly.\n",
    "\n",
    "Large and active community: Python has a large and active community of developers who contribute to\n",
    "the language and offer support and resources to other developers. \n",
    "This community has created many libraries and frameworks that make Python even more powerful and versatile.\n",
    "\n",
    "Cross-platform compatibility: Python can run on a wide range of platforms, including Windows, macOS, Linux, and \n",
    "Unix, making it an ideal language for developing cross-platform applications.\n",
    "\n",
    "Extensive standard library: Python comes with a large and comprehensive standard library that provides many useful \n",
    "modules and functions that can be used for a variety of tasks.\n",
    "\n",
    "High-level language: Python is a high-level language, which means that it abstracts away many low-level details,\n",
    "making it easier to write and maintain code.\n",
    "\n",
    "Versatile: Python can be used for a wide range of applications, including web development, scientific computing,\n",
    "data analysis, machine learning, artificial intelligence, and more.\n",
    "\n",
    "Dynamic and interpreted: Python is a dynamic language, which means that it does not require variable declarations or type annotations.\n",
    "It is also an interpreted language, which means that code can be executed immediately without the need for compilation.\n",
    "\n"
   ]
  },
  {
   "cell_type": "code",
   "execution_count": null,
   "id": "0524374d-e00f-4746-ab3a-2fe7a99e7a91",
   "metadata": {},
   "outputs": [],
   "source": [
    "Ans = 14\n",
    "Memory management in Python is done automatically by the language itself through a mechanism called \n",
    "garbage collection.\n",
    "\n",
    "The goal of the garbage collector is to free up memory that is no longer being used by the program.\n",
    "\n",
    "In addition to reference counting, Python also uses a cyclic garbage collector to detect and remove circular references. \n",
    "This can occur when\n",
    "two or more objects reference each other in a circular manner, preventing the reference count of any object from reaching 0.\n",
    "\n",
    "Overall, memory management in Python is handled automatically by the language itself through a combination of reference counting and garbage collection,\n",
    "making it easier for developers to focus on writing their code rather than worrying about memory management"
   ]
  },
  {
   "cell_type": "code",
   "execution_count": null,
   "id": "0b837ad8-46f7-4dbc-bfa1-1567546b83f4",
   "metadata": {},
   "outputs": [],
   "source": [
    "Ans = 15\n",
    "Download the latest version of Python from the official website (https://www.python.org/downloads/windows/).\n",
    "\n",
    "Double-click on the downloaded installer file and follow the instructions to install Python. Make sure to select the option to add Python to your system's PATH during the installation process.\n",
    "\n",
    "Once Python is installed, open the command prompt by pressing the Windows key + R and typing \"cmd\" in the Run box, then press Enter.\n",
    "\n",
    "In the command prompt, type \"python\" and press Enter. If Python is installed correctly, you should see the Python version number and the Python prompt (\">>>\").\n",
    "\n",
    "To set up the path variables, go to the Control Panel and click on System > Advanced System Settings > Environment Variables.\n",
    "\n",
    "Under System Variables, find the \"Path\" variable and click Edit.\n",
    "\n",
    "Add the path to the Python executable to the list of paths. The path should look something like this: C:\\Python39\\ (depending on the version of Python you installed).\n",
    "\n",
    "Click OK to close all the windows and apply the changes.\n",
    "\n",
    "To test that the path variables are set up correctly, open a new command prompt window and type \"python\" again. If Python starts correctly, the path variables have been set up correctly."
   ]
  },
  {
   "cell_type": "code",
   "execution_count": null,
   "id": "95b0be7f-3720-4bdc-972a-09cb76023e57",
   "metadata": {},
   "outputs": [],
   "source": [
    "Ans = 16\n",
    "Yes, indentation is required in Python. Unlike other programming languages, Python uses indentation (spaces or tabs) to group statements together. \n",
    "This is known as the \"block\" structure in Python.\n",
    "\n",
    "Ex:\n",
    "    x = 10\n",
    "if x > 5:\n",
    "    print(\"x is greater than 5\")\n"
   ]
  }
 ],
 "metadata": {
  "kernelspec": {
   "display_name": "Python 3 (ipykernel)",
   "language": "python",
   "name": "python3"
  },
  "language_info": {
   "codemirror_mode": {
    "name": "ipython",
    "version": 3
   },
   "file_extension": ".py",
   "mimetype": "text/x-python",
   "name": "python",
   "nbconvert_exporter": "python",
   "pygments_lexer": "ipython3",
   "version": "3.10.8"
  }
 },
 "nbformat": 4,
 "nbformat_minor": 5
}
